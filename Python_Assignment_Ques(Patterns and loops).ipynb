{
 "cells": [
  {
   "cell_type": "code",
   "execution_count": 2,
   "id": "69fc6e01",
   "metadata": {},
   "outputs": [
    {
     "name": "stdout",
     "output_type": "stream",
     "text": [
      "Enter the percentage of marks: 55\n",
      "Grade: D\n"
     ]
    }
   ],
   "source": [
    "## Q1\n",
    "\n",
    "\n",
    "percentage = float(input(\"Enter the percentage of marks: \"))\n",
    "\n",
    "if percentage > 90:\n",
    "    grade = 'A'\n",
    "elif 80 < percentage <= 90:\n",
    "    grade = 'B'\n",
    "elif 60<= percentage <= 80:\n",
    "    grade = 'C'\n",
    "else:\n",
    "    grade = 'D'\n",
    "\n",
    "print(\"Grade:\", grade)\n"
   ]
  },
  {
   "cell_type": "code",
   "execution_count": 9,
   "id": "3d12407e",
   "metadata": {},
   "outputs": [
    {
     "name": "stdout",
     "output_type": "stream",
     "text": [
      "Enter the Cost Price of Bike 110000\n",
      "Road Tax 16500.0\n"
     ]
    }
   ],
   "source": [
    "#Q2\n",
    "\n",
    "cost_price = int(input(\"Enter the Cost Price of Bike \"))\n",
    "\n",
    "if cost_price > 100000:\n",
    "    tax = 15/100 *(cost_price)\n",
    "elif 50000 <cost_price <=100000:\n",
    "    tax = 10/100 *(cost_price)\n",
    "else:\n",
    "    tax=5/100 *(cost_price)\n",
    "    \n",
    "print(\"Road Tax\",tax)"
   ]
  },
  {
   "cell_type": "code",
   "execution_count": 25,
   "id": "d4972a1d",
   "metadata": {},
   "outputs": [],
   "source": [
    "#Q3 in different ways"
   ]
  },
  {
   "cell_type": "code",
   "execution_count": 22,
   "id": "eb7c7dd7",
   "metadata": {},
   "outputs": [
    {
     "name": "stdout",
     "output_type": "stream",
     "text": [
      "Enter the city name: Bombay\n",
      "Monument not found for the entered city.\n"
     ]
    }
   ],
   "source": [
    "## Basic Level\n",
    "\n",
    "city = ['Delhi', 'Agra', 'Jaipur']\n",
    "Monuments = ['RedFort', 'Tajmahal', 'Jalmahal']\n",
    "\n",
    "City_Name = (input(\"Enter the city name: \" ))\n",
    "\n",
    "if City_Name == 'Delhi':\n",
    "    print('The Monument in Delhi is',Monuments[0])\n",
    "elif City_Name == 'Agra':\n",
    "    print('The Monument in Agra is',Monuments[1])\n",
    "elif City_Name == 'Jaipur':\n",
    "    print('The Monument in Jaipur is',Monuments[2])\n",
    "else:\n",
    "    print('Monument not found for the entered city.')"
   ]
  },
  {
   "cell_type": "code",
   "execution_count": 23,
   "id": "03669dc0",
   "metadata": {},
   "outputs": [
    {
     "name": "stdout",
     "output_type": "stream",
     "text": [
      "Enter the city: Delhi\n",
      "The Monument in Delhi is RedFort\n"
     ]
    }
   ],
   "source": [
    "## Intermediate Level\n",
    "\n",
    "# Define cities and their corresponding monuments\n",
    "cities = ['Delhi', 'Agra', 'Jaipur']\n",
    "monuments = ['RedFort', 'Tajmahal', 'Jalmahal']\n",
    "\n",
    "# Ask the user to input a city\n",
    "city_input = input(\"Enter the city: \")\n",
    "\n",
    "\n",
    "# Iterate over the cities and check if the input city matches\n",
    "for i in range(len(cities)):\n",
    "    if city_input == cities[i]:\n",
    "        print('The Monument in', city_input, 'is', monuments[i])\n",
    "        city_found = True\n",
    "        break\n",
    "\n",
    "# If city not found, print a message\n",
    "if not city_found:\n",
    "    print('Monument not found for the entered city.')\n"
   ]
  },
  {
   "cell_type": "code",
   "execution_count": 24,
   "id": "bc57b6c6",
   "metadata": {},
   "outputs": [
    {
     "name": "stdout",
     "output_type": "stream",
     "text": [
      "Enter the city: Delhi\n",
      "The Monument in Delhi is RedFort\n"
     ]
    }
   ],
   "source": [
    "## Advanced level\n",
    "\n",
    "def find_monument(city_input):\n",
    "    # Define cities and their corresponding monuments\n",
    "    cities = ['Delhi', 'Agra', 'Jaipur']\n",
    "    monuments = ['RedFort', 'Tajmahal', 'Jalmahal']\n",
    "    \n",
    "    # Iterate over the cities and check if the input city matches\n",
    "    for i in range(len(cities)):\n",
    "        if city_input == cities[i]:\n",
    "            return monuments[i]\n",
    "    \n",
    "    # If city not found, return None\n",
    "    return None\n",
    "\n",
    "# Ask the user to input a city\n",
    "city_input = input(\"Enter the city: \")\n",
    "\n",
    "# Call the function to find the corresponding monument\n",
    "monument = find_monument(city_input)\n",
    "\n",
    "# If monument is found, print it, otherwise print a message\n",
    "if monument:\n",
    "    print('The Monument in', city_input, 'is', monument)\n",
    "else:\n",
    "    print('Monument not found for the entered city.')\n",
    "\n"
   ]
  },
  {
   "cell_type": "code",
   "execution_count": 47,
   "id": "6786308a",
   "metadata": {},
   "outputs": [
    {
     "name": "stdout",
     "output_type": "stream",
     "text": [
      "Enter the city: Delhi\n",
      "The Monument in Delhi is RedFort\n"
     ]
    }
   ],
   "source": [
    "# 4th Way\n",
    "\n",
    "from functools import reduce\n",
    "\n",
    "def find_monument(city_input):\n",
    "    # Define cities and their corresponding monuments\n",
    "    cities = ['Delhi', 'Agra', 'Jaipur']\n",
    "    monuments = ['RedFort', 'Tajmahal', 'Jalmahal']\n",
    "    \n",
    "    # Use map to create a dictionary mapping cities to monuments\n",
    "    city_monument_map = dict(map(lambda x, y: (x, y), cities, monuments))\n",
    "    \n",
    "    # Use reduce to find the monument for the given city\n",
    "    return city_monument_map.get(city_input, None)\n",
    "\n",
    "# Ask the user to input a city\n",
    "city_input = input(\"Enter the city: \")\n",
    "\n",
    "# Call the function to find the corresponding monument\n",
    "monument = find_monument(city_input)\n",
    "\n",
    "# If monument is found, print it, otherwise print a message\n",
    "if monument:\n",
    "    print('The Monument in', city_input, 'is', monument)\n",
    "else:\n",
    "    print('Monument not found for the entered city.')\n"
   ]
  },
  {
   "cell_type": "code",
   "execution_count": 46,
   "id": "26b9021e",
   "metadata": {},
   "outputs": [
    {
     "name": "stdout",
     "output_type": "stream",
     "text": [
      "Enter any number: 10000\n",
      "The given number can be divided by 2, 10 times before it is less than or equal to 10.\n"
     ]
    }
   ],
   "source": [
    "# Q4 Check how many times a given number can be divided by 2 before it is less than or equal to 10.\n",
    "\n",
    "\n",
    "\n",
    "\n",
    "def count_divisions(num):\n",
    "    count = 0\n",
    "    while num > 10:\n",
    "        num /= 2\n",
    "        count += 1\n",
    "    return count\n",
    "\n",
    "# Example usage\n",
    "given_number = int(input(\"Enter any number: \"))\n",
    "divisions = count_divisions(given_number)\n",
    "print(\"The given number can be divided by 2,\", divisions, \"times before it is less than or equal to 10.\")\n"
   ]
  },
  {
   "cell_type": "markdown",
   "id": "526e7212",
   "metadata": {},
   "source": [
    "### Q5. Why and when to use while loop in Python? Give a detailed description with an example.\n",
    "\n",
    "A while loop is a fundamental control flow statement in Python used for repeated execution of a code block as long as a certain condition remains True.\n",
    "\n",
    "Why use a while loop:\n",
    "\n",
    "Iterate a specific number of times: When you know the exact number of repetitions needed beforehand. (e.g., printing a sequence of numbers).\n",
    "Continue execution based on a condition: When the number of repetitions depends on a condition that changes within the loop. (e.g., user input, reading data from a file until the end is reached)."
   ]
  },
  {
   "cell_type": "markdown",
   "id": "67e9515d",
   "metadata": {},
   "source": [
    "### Q4. Use nested while loop to print 3 different patterns.\n",
    "\n",
    "Here's an example using nested while loops to print three different patterns:"
   ]
  },
  {
   "cell_type": "markdown",
   "id": "aa1c4d40",
   "metadata": {},
   "source": [
    "Pattern 1: Right angle triangle with stars (*)\n",
    "\n"
   ]
  },
  {
   "cell_type": "code",
   "execution_count": 48,
   "id": "ff9fd048",
   "metadata": {},
   "outputs": [
    {
     "name": "stdout",
     "output_type": "stream",
     "text": [
      "*\n",
      "**\n",
      "***\n",
      "****\n",
      "*****\n"
     ]
    }
   ],
   "source": [
    "rows = 5\n",
    "for i in range(1, rows + 1):\n",
    "  # Print i stars in each row\n",
    "  for j in range(i):\n",
    "    print(\"*\", end=\"\")\n",
    "  # Move to the next line after each row\n",
    "  print()\n"
   ]
  },
  {
   "cell_type": "markdown",
   "id": "04b2aaf3",
   "metadata": {},
   "source": [
    "Pattern 2: Number pyramid (1 to 5)\n",
    "\n"
   ]
  },
  {
   "cell_type": "code",
   "execution_count": 49,
   "id": "679c1fc3",
   "metadata": {},
   "outputs": [
    {
     "name": "stdout",
     "output_type": "stream",
     "text": [
      "    1\n",
      "   12\n",
      "  123\n",
      " 1234\n",
      "12345\n"
     ]
    }
   ],
   "source": [
    "rows = 5\n",
    "for i in range(1, rows + 1):\n",
    "  # Print spaces for proper alignment\n",
    "  for j in range(rows - i):\n",
    "    print(\" \", end=\"\")\n",
    "  # Print numbers in ascending order for each row\n",
    "  for j in range(1, i + 1):\n",
    "    print(j, end=\"\")\n",
    "  # Move to the next line after each row\n",
    "  print()\n"
   ]
  },
  {
   "cell_type": "markdown",
   "id": "23904d66",
   "metadata": {},
   "source": [
    "### Pattern 3: Diamond shape with stars (*)\n",
    "\n"
   ]
  },
  {
   "cell_type": "code",
   "execution_count": 50,
   "id": "54247c35",
   "metadata": {},
   "outputs": [
    {
     "name": "stdout",
     "output_type": "stream",
     "text": [
      "    *\n",
      "   ***\n",
      "  *****\n",
      " *******\n",
      "*********\n",
      " *******\n",
      "  *****\n",
      "   ***\n",
      "    *\n"
     ]
    }
   ],
   "source": [
    "rows = 5\n",
    "# Upper half\n",
    "for i in range(1, rows + 1):\n",
    "  # Print spaces for proper alignment\n",
    "  for j in range(rows - i):\n",
    "    print(\" \", end=\"\")\n",
    "  # Print stars for each row\n",
    "  for j in range(1, 2 * i):\n",
    "    print(\"*\", end=\"\")\n",
    "  # Move to the next line after each row\n",
    "  print()\n",
    "\n",
    "# Lower half (mirrored with decreasing stars)\n",
    "for i in range(rows - 1, 0, -1):\n",
    "  # Print spaces for proper alignment\n",
    "  for j in range(rows - i):\n",
    "    print(\" \", end=\"\")\n",
    "  # Print decreasing stars for each row\n",
    "  for j in range(1, 2 * i):\n",
    "    print(\"*\", end=\"\")\n",
    "  # Move to the next line after each row\n",
    "  print()\n"
   ]
  },
  {
   "cell_type": "markdown",
   "id": "b2e72a6a",
   "metadata": {},
   "source": [
    "### Q6. Reverse a while loop to display numbers from 10 to 1.\n",
    "\n"
   ]
  },
  {
   "cell_type": "code",
   "execution_count": 52,
   "id": "f2474b85",
   "metadata": {},
   "outputs": [
    {
     "name": "stdout",
     "output_type": "stream",
     "text": [
      "10\n",
      "9\n",
      "8\n",
      "7\n",
      "6\n",
      "5\n",
      "4\n",
      "3\n",
      "2\n",
      "1\n"
     ]
    }
   ],
   "source": [
    "num = 10\n",
    "\n",
    "while num >= 1:\n",
    "    print(num)\n",
    "    num -= 1\n"
   ]
  },
  {
   "cell_type": "code",
   "execution_count": null,
   "id": "0110bfed",
   "metadata": {},
   "outputs": [],
   "source": []
  }
 ],
 "metadata": {
  "kernelspec": {
   "display_name": "Python 3 (ipykernel)",
   "language": "python",
   "name": "python3"
  },
  "language_info": {
   "codemirror_mode": {
    "name": "ipython",
    "version": 3
   },
   "file_extension": ".py",
   "mimetype": "text/x-python",
   "name": "python",
   "nbconvert_exporter": "python",
   "pygments_lexer": "ipython3",
   "version": "3.10.9"
  }
 },
 "nbformat": 4,
 "nbformat_minor": 5
}
